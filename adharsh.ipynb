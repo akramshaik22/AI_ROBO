{
 "cells": [
  {
   "cell_type": "code",
   "execution_count": null,
   "metadata": {},
   "outputs": [],
   "source": [
    "import numpy as np\n",
    "from keras import utils, callbacks\n",
    "from keras.models import Sequential\n",
    "from keras.models import Model\n",
    "from keras.applications.vgg16 import VGG16\n",
    "from keras.layers.core import Flatten, Dense, Dropout\n",
    "from keras.layers.convolutional import Convolution2D, MaxPooling2D, ZeroPadding2D\n",
    "from keras.optimizers import Adam\n",
    "from sklearn.model_selection import train_test_split, StratifiedKFold\n",
    "#from keras.preprocessing.image import load_img, img_to_array\n",
    "from skimage.transform import resize\n",
    "import tensorflow as tf\n",
    "from tensorflow.keras.preprocessing.image import ImageDataGenerator\n",
    "train_directory = \"../input/asl-alphabet/asl_alphabet_train/asl_alphabet_train\"\n",
    "#test_directory = \"../input/asl-alphabet/asl_alphabet_test/asl_alphabet_test\"\n",
    "classes = 29\n",
    "batch = 256\n",
    "epochs = 50\n",
    "lnr = 0.0001\n",
    "gen = ImageDataGenerator(rescale=1./255, validation_split=0.1) \n",
    "train = gen.flow_from_directory(\"../input/asl-alphabet/asl_alphabet_train/asl_alphabet_train\", \n",
    "                                                            target_size=(64, 64), subset=\"training\")\n",
    "val = gen.flow_from_directory(\"../input/asl-alphabet/asl_alphabet_train/asl_alphabet_train\", \n",
    "                                                            target_size=(64, 64), subset=\"validation\")\n",
    "\n",
    "adam = Adam(learning_rate=lnr)\n",
    "model = Sequential()\n",
    "model.add(VGG16(weights='imagenet', include_top=False, input_shape=(64, 64, 3)))\n",
    "model.add(Flatten())\n",
    "model.add(Dense(256, activation='relu'))\n",
    "model.add(Dense(29, activation='softmax'))\n",
    "\n",
    "model.compile(optimizer=adam, loss='categorical_crossentropy', metrics=['accuracy'] )\n",
    "\n",
    "earlystopping = callbacks.EarlyStopping(monitor=\"val_loss\", mode=\"min\", \n",
    "                                        patience=5, restore_best_weights = True)\n",
    "\n",
    "history = model.fit(train, validation_data = val, epochs=epochs, shuffle=True, verbose=1, \n",
    "                    callbacks = [earlystopping])\n",
    "\n",
    "test = ImageDataGenerator(rescale=1./255).flow_from_directory(\"../input/asl-alphabet/asl_alphabet_test\", \n",
    "                                                            target_size=(64, 64), class_mode=None)\n",
    "pred = model.predict(test)\n",
    "pred = np.argmax(pred, axis=1)\n",
    "\n",
    "model.save('final_model.h5')"
   ]
  }
 ],
 "metadata": {
  "language_info": {
   "name": "python"
  },
  "orig_nbformat": 4
 },
 "nbformat": 4,
 "nbformat_minor": 2
}
